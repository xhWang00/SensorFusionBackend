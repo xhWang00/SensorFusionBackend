{
 "cells": [
  {
   "cell_type": "markdown",
   "id": "11dde435",
   "metadata": {},
   "source": [
    "## Loading JSON"
   ]
  },
  {
   "cell_type": "code",
   "execution_count": 1,
   "id": "55446a41",
   "metadata": {},
   "outputs": [
    {
     "name": "stdout",
     "output_type": "stream",
     "text": [
      "    edges  magnitude  quadrant3  quadrant4\n",
      "0       0          0          0          0\n",
      "1       0          0          0          0\n",
      "2       0          0          0          1\n",
      "3       0          0          0          0\n",
      "4       0          0          0          0\n",
      "..    ...        ...        ...        ...\n",
      "88      1          0          0          0\n",
      "89      1          1          0          0\n",
      "90      1          1          0          0\n",
      "91      1          1          0          0\n",
      "92      1          1          0          0\n",
      "\n",
      "[93 rows x 4 columns]\n"
     ]
    }
   ],
   "source": [
    "import pandas as pd\n",
    "import json\n",
    "\n",
    "def load_data(location):\n",
    "    f = open(location)\n",
    "    data = json.load(f)\n",
    "    \n",
    "    arr = []\n",
    "    \n",
    "    for key in data:\n",
    "        temp = []\n",
    "\n",
    "        if data[key]['edges'] == False:\n",
    "            temp.append(0)\n",
    "        else:\n",
    "            temp.append(1)\n",
    "        if data[key]['magnitude'] == False:\n",
    "            temp.append(0)\n",
    "        else:\n",
    "            temp.append(1)\n",
    "        temp.append(data[key]['cascadeClassifier']['bottom_left'])\n",
    "        temp.append(data[key]['cascadeClassifier']['bottom_right'])\n",
    "        \n",
    "        arr.append(temp)\n",
    "\n",
    "    return pd.DataFrame(arr, columns=['edges', 'magnitude', 'quadrant3', 'quadrant4'])\n",
    "\n",
    "\n",
    "data0026 = load_data('./jsons/2011_09_29_drive_0026_extract.json')\n",
    "data0048 = load_data('./jsons/2011_09_26_drive_0048_extract.json')\n",
    "data0113 = load_data('./jsons/2011_09_26_drive_0113_extract.json')\n",
    "\n",
    "print(data0113)"
   ]
  },
  {
   "cell_type": "markdown",
   "id": "fc80c289",
   "metadata": {},
   "source": [
    "## Loading labeld results"
   ]
  },
  {
   "cell_type": "code",
   "execution_count": 2,
   "id": "d43dfca1",
   "metadata": {},
   "outputs": [
    {
     "name": "stdout",
     "output_type": "stream",
     "text": [
      "             frame  safety\n",
      "0   0000000000.png       0\n",
      "1   0000000001.png       0\n",
      "2   0000000002.png       0\n",
      "3   0000000003.png       0\n",
      "4   0000000004.png       0\n",
      "..             ...     ...\n",
      "88  0000000088.png       1\n",
      "89  0000000089.png       1\n",
      "90  0000000090.png       1\n",
      "91  0000000091.png       1\n",
      "92  0000000092.png       1\n",
      "\n",
      "[93 rows x 2 columns]\n"
     ]
    }
   ],
   "source": [
    "result0026 = pd.read_csv('./utils/2011_09_29_drive_0026_extract.csv')\n",
    "result0048 = pd.read_csv('./utils/2011_09_26_drive_0048_extract.csv')\n",
    "result0113 = pd.read_csv('./utils/2011_09_26_drive_0113_extract.csv')\n",
    "\n",
    "print(result0113)"
   ]
  },
  {
   "cell_type": "markdown",
   "id": "50fbdd7b",
   "metadata": {},
   "source": [
    "---"
   ]
  },
  {
   "cell_type": "markdown",
   "id": "cbe3a461",
   "metadata": {},
   "source": [
    "## Trainning"
   ]
  },
  {
   "cell_type": "code",
   "execution_count": 3,
   "id": "ee4f9737",
   "metadata": {},
   "outputs": [],
   "source": [
    "from sklearn.neural_network import MLPClassifier"
   ]
  },
  {
   "cell_type": "code",
   "execution_count": 4,
   "id": "4b73630f",
   "metadata": {},
   "outputs": [
    {
     "data": {
      "text/html": [
       "<style>#sk-container-id-1 {color: black;background-color: white;}#sk-container-id-1 pre{padding: 0;}#sk-container-id-1 div.sk-toggleable {background-color: white;}#sk-container-id-1 label.sk-toggleable__label {cursor: pointer;display: block;width: 100%;margin-bottom: 0;padding: 0.3em;box-sizing: border-box;text-align: center;}#sk-container-id-1 label.sk-toggleable__label-arrow:before {content: \"▸\";float: left;margin-right: 0.25em;color: #696969;}#sk-container-id-1 label.sk-toggleable__label-arrow:hover:before {color: black;}#sk-container-id-1 div.sk-estimator:hover label.sk-toggleable__label-arrow:before {color: black;}#sk-container-id-1 div.sk-toggleable__content {max-height: 0;max-width: 0;overflow: hidden;text-align: left;background-color: #f0f8ff;}#sk-container-id-1 div.sk-toggleable__content pre {margin: 0.2em;color: black;border-radius: 0.25em;background-color: #f0f8ff;}#sk-container-id-1 input.sk-toggleable__control:checked~div.sk-toggleable__content {max-height: 200px;max-width: 100%;overflow: auto;}#sk-container-id-1 input.sk-toggleable__control:checked~label.sk-toggleable__label-arrow:before {content: \"▾\";}#sk-container-id-1 div.sk-estimator input.sk-toggleable__control:checked~label.sk-toggleable__label {background-color: #d4ebff;}#sk-container-id-1 div.sk-label input.sk-toggleable__control:checked~label.sk-toggleable__label {background-color: #d4ebff;}#sk-container-id-1 input.sk-hidden--visually {border: 0;clip: rect(1px 1px 1px 1px);clip: rect(1px, 1px, 1px, 1px);height: 1px;margin: -1px;overflow: hidden;padding: 0;position: absolute;width: 1px;}#sk-container-id-1 div.sk-estimator {font-family: monospace;background-color: #f0f8ff;border: 1px dotted black;border-radius: 0.25em;box-sizing: border-box;margin-bottom: 0.5em;}#sk-container-id-1 div.sk-estimator:hover {background-color: #d4ebff;}#sk-container-id-1 div.sk-parallel-item::after {content: \"\";width: 100%;border-bottom: 1px solid gray;flex-grow: 1;}#sk-container-id-1 div.sk-label:hover label.sk-toggleable__label {background-color: #d4ebff;}#sk-container-id-1 div.sk-serial::before {content: \"\";position: absolute;border-left: 1px solid gray;box-sizing: border-box;top: 0;bottom: 0;left: 50%;z-index: 0;}#sk-container-id-1 div.sk-serial {display: flex;flex-direction: column;align-items: center;background-color: white;padding-right: 0.2em;padding-left: 0.2em;position: relative;}#sk-container-id-1 div.sk-item {position: relative;z-index: 1;}#sk-container-id-1 div.sk-parallel {display: flex;align-items: stretch;justify-content: center;background-color: white;position: relative;}#sk-container-id-1 div.sk-item::before, #sk-container-id-1 div.sk-parallel-item::before {content: \"\";position: absolute;border-left: 1px solid gray;box-sizing: border-box;top: 0;bottom: 0;left: 50%;z-index: -1;}#sk-container-id-1 div.sk-parallel-item {display: flex;flex-direction: column;z-index: 1;position: relative;background-color: white;}#sk-container-id-1 div.sk-parallel-item:first-child::after {align-self: flex-end;width: 50%;}#sk-container-id-1 div.sk-parallel-item:last-child::after {align-self: flex-start;width: 50%;}#sk-container-id-1 div.sk-parallel-item:only-child::after {width: 0;}#sk-container-id-1 div.sk-dashed-wrapped {border: 1px dashed gray;margin: 0 0.4em 0.5em 0.4em;box-sizing: border-box;padding-bottom: 0.4em;background-color: white;}#sk-container-id-1 div.sk-label label {font-family: monospace;font-weight: bold;display: inline-block;line-height: 1.2em;}#sk-container-id-1 div.sk-label-container {text-align: center;}#sk-container-id-1 div.sk-container {/* jupyter's `normalize.less` sets `[hidden] { display: none; }` but bootstrap.min.css set `[hidden] { display: none !important; }` so we also need the `!important` here to be able to override the default hidden behavior on the sphinx rendered scikit-learn.org. See: https://github.com/scikit-learn/scikit-learn/issues/21755 */display: inline-block !important;position: relative;}#sk-container-id-1 div.sk-text-repr-fallback {display: none;}</style><div id=\"sk-container-id-1\" class=\"sk-top-container\"><div class=\"sk-text-repr-fallback\"><pre>MLPClassifier(alpha=1e-05, hidden_layer_sizes=(5, 2), random_state=1,\n",
       "              solver=&#x27;lbfgs&#x27;)</pre><b>In a Jupyter environment, please rerun this cell to show the HTML representation or trust the notebook. <br />On GitHub, the HTML representation is unable to render, please try loading this page with nbviewer.org.</b></div><div class=\"sk-container\" hidden><div class=\"sk-item\"><div class=\"sk-estimator sk-toggleable\"><input class=\"sk-toggleable__control sk-hidden--visually\" id=\"sk-estimator-id-1\" type=\"checkbox\" checked><label for=\"sk-estimator-id-1\" class=\"sk-toggleable__label sk-toggleable__label-arrow\">MLPClassifier</label><div class=\"sk-toggleable__content\"><pre>MLPClassifier(alpha=1e-05, hidden_layer_sizes=(5, 2), random_state=1,\n",
       "              solver=&#x27;lbfgs&#x27;)</pre></div></div></div></div></div>"
      ],
      "text/plain": [
       "MLPClassifier(alpha=1e-05, hidden_layer_sizes=(5, 2), random_state=1,\n",
       "              solver='lbfgs')"
      ]
     },
     "execution_count": 4,
     "metadata": {},
     "output_type": "execute_result"
    }
   ],
   "source": [
    "clf = MLPClassifier(solver='lbfgs', alpha=1e-5,hidden_layer_sizes=(5, 2), random_state=1)\n",
    "\n",
    "X = data0026\n",
    "y = result0026['safety']\n",
    "\n",
    "clf.fit(X, y)\n",
    "\n",
    "X = data0048\n",
    "y = result0048['safety']\n",
    "\n",
    "clf.fit(X, y)\n",
    "\n",
    "\n",
    "# Leave data0113 for checking accuracy\n",
    "# X = data0113\n",
    "# y = result0113['safety']\n",
    "\n",
    "# clf.fit(X, y)"
   ]
  },
  {
   "cell_type": "markdown",
   "id": "52d206bc",
   "metadata": {},
   "source": [
    "Save the trained model."
   ]
  },
  {
   "cell_type": "code",
   "execution_count": 5,
   "id": "0811d990",
   "metadata": {},
   "outputs": [],
   "source": [
    "import pickle\n",
    "\n",
    "with open('model.pkl','wb') as f:\n",
    "    pickle.dump(clf, f)"
   ]
  },
  {
   "cell_type": "markdown",
   "id": "daf30f02",
   "metadata": {},
   "source": [
    "## Results"
   ]
  },
  {
   "cell_type": "code",
   "execution_count": 6,
   "id": "503fb4c6",
   "metadata": {},
   "outputs": [],
   "source": [
    "X = data0113\n",
    "\n",
    "y_act = result0113['safety']\n",
    "y_pred = clf.predict(X)"
   ]
  },
  {
   "cell_type": "code",
   "execution_count": 7,
   "id": "476bee65",
   "metadata": {},
   "outputs": [],
   "source": [
    "from prettytable import PrettyTable\n",
    "\n",
    "def calculate_metrics(true_labels, pred_labels):\n",
    "    tp = 0\n",
    "    tn = 0\n",
    "    fp = 0\n",
    "    fn = 0\n",
    "    \n",
    "    for i in range(len(true_labels)):\n",
    "        if true_labels[i] == pred_labels[i]:\n",
    "            if true_labels[i] == 1:\n",
    "                tp += 1\n",
    "            else:\n",
    "                tn += 1\n",
    "        else:\n",
    "            if true_labels[i] == 1:\n",
    "                fn += 1\n",
    "            else:\n",
    "                fp += 1\n",
    "    \n",
    "    accuracy = (tp + tn) / len(true_labels)\n",
    "    false_positive_rate = fp / (fp + tn)\n",
    "    false_negative_rate = fn / (fn + tp)\n",
    "    \n",
    "    # create a table to display the results\n",
    "    x = PrettyTable()\n",
    "    x.field_names = [\"Metric\", \"Value\"]\n",
    "    x.add_row([\"Accuracy\", \"{:.2f}\".format(accuracy)])\n",
    "    x.add_row([\"False Positive Rate\", \"{:.2f}\".format(false_positive_rate)])\n",
    "    x.add_row([\"False Negative Rate\", \"{:.2f}\".format(false_negative_rate)])\n",
    "    \n",
    "    print(x)"
   ]
  },
  {
   "cell_type": "code",
   "execution_count": 8,
   "id": "e51b1ab7",
   "metadata": {},
   "outputs": [
    {
     "name": "stdout",
     "output_type": "stream",
     "text": [
      "+---------------------+-------+\n",
      "|        Metric       | Value |\n",
      "+---------------------+-------+\n",
      "|       Accuracy      |  0.60 |\n",
      "| False Positive Rate |  0.25 |\n",
      "| False Negative Rate |  0.61 |\n",
      "+---------------------+-------+\n"
     ]
    }
   ],
   "source": [
    "calculate_metrics(y_act, y_pred)"
   ]
  }
 ],
 "metadata": {
  "kernelspec": {
   "display_name": "Python 3 (ipykernel)",
   "language": "python",
   "name": "python3"
  },
  "language_info": {
   "codemirror_mode": {
    "name": "ipython",
    "version": 3
   },
   "file_extension": ".py",
   "mimetype": "text/x-python",
   "name": "python",
   "nbconvert_exporter": "python",
   "pygments_lexer": "ipython3",
   "version": "3.9.2"
  }
 },
 "nbformat": 4,
 "nbformat_minor": 5
}
