{
 "cells": [
  {
   "cell_type": "markdown",
   "id": "11dde435",
   "metadata": {},
   "source": [
    "## Loading JSON"
   ]
  },
  {
   "cell_type": "code",
   "execution_count": 1,
   "id": "55446a41",
   "metadata": {},
   "outputs": [
    {
     "name": "stdout",
     "output_type": "stream",
     "text": [
      "     edges  magnitude  quadrant3  quadrant4\n",
      "0        0          0          0          0\n",
      "1        0          0          0          0\n",
      "2        0          0          0          0\n",
      "3        0          0          0          0\n",
      "4        0          0          0          0\n",
      "..     ...        ...        ...        ...\n",
      "115      0          0          0          0\n",
      "116      0          1          0          0\n",
      "117      0          1          0          0\n",
      "118      0          1          0          0\n",
      "119      0          1          0          0\n",
      "\n",
      "[120 rows x 4 columns]\n"
     ]
    }
   ],
   "source": [
    "import pandas as pd\n",
    "import json\n",
    "\n",
    "def load_data(location):\n",
    "    f = open(location)\n",
    "    data = json.load(f)\n",
    "    \n",
    "    arr = []\n",
    "    \n",
    "    for key in data:\n",
    "        temp = []\n",
    "\n",
    "        if data[key]['edges'] == False:\n",
    "            temp.append(0)\n",
    "        else:\n",
    "            temp.append(1)\n",
    "        if data[key]['magnitude'] == False:\n",
    "            temp.append(0)\n",
    "        else:\n",
    "            temp.append(1)\n",
    "        temp.append(data[key]['cascadeClassifier']['bottom_left'])\n",
    "        temp.append(data[key]['cascadeClassifier']['bottom_right'])\n",
    "        \n",
    "        arr.append(temp)\n",
    "\n",
    "    return pd.DataFrame(arr, columns=['edges', 'magnitude', 'quadrant3', 'quadrant4'])\n",
    "\n",
    "\n",
    "data0001 = load_data('./jsons/2011_09_26_drive_0001_extract.json')\n",
    "data0002 = load_data('./jsons/2011_09_26_drive_0002_extract.json')\n",
    "data0013 = load_data('./jsons/2011_09_26_drive_0013_extract.json')\n",
    "data0017 = load_data('./jsons/2011_09_26_drive_0017_extract.json')\n",
    "data0048 = load_data('./jsons/2011_09_26_drive_0048_extract.json')\n",
    "data0060 = load_data('./jsons/2011_09_26_drive_0060_extract.json')\n",
    "data0113 = load_data('./jsons/2011_09_26_drive_0113_extract.json')\n",
    "data0026 = load_data('./jsons/2011_09_29_drive_0026_extract.json')\n",
    "\n",
    "print(data0017)"
   ]
  },
  {
   "cell_type": "markdown",
   "id": "fc80c289",
   "metadata": {},
   "source": [
    "## Loading labeld results"
   ]
  },
  {
   "cell_type": "code",
   "execution_count": 2,
   "id": "d43dfca1",
   "metadata": {},
   "outputs": [
    {
     "name": "stdout",
     "output_type": "stream",
     "text": [
      "             frames  safety\n",
      "0    0000000000.png       0\n",
      "1    0000000001.png       0\n",
      "2    0000000002.png       0\n",
      "3    0000000003.png       0\n",
      "4    0000000004.png       0\n",
      "..              ...     ...\n",
      "115  0000000115.png       0\n",
      "116  0000000116.png       0\n",
      "117  0000000117.png       0\n",
      "118  0000000118.png       0\n",
      "119  0000000119.png       0\n",
      "\n",
      "[120 rows x 2 columns]\n"
     ]
    }
   ],
   "source": [
    "label0001 = pd.read_csv('./utils/2011_09_26_drive_0001_extract.csv')\n",
    "label0002 = pd.read_csv('./utils/2011_09_26_drive_0002_extract.csv')\n",
    "label0013 = pd.read_csv('./utils/2011_09_26_drive_0013_extract.csv')\n",
    "label0017 = pd.read_csv('./utils/2011_09_26_drive_0017_extract.csv')\n",
    "label0048 = pd.read_csv('./utils/2011_09_26_drive_0048_extract.csv')\n",
    "label0060 = pd.read_csv('./utils/2011_09_26_drive_0060_extract.csv')\n",
    "label0113 = pd.read_csv('./utils/2011_09_26_drive_0113_extract.csv')\n",
    "label0026 = pd.read_csv('./utils/2011_09_29_drive_0026_extract.csv')\n",
    "\n",
    "print(label0017)"
   ]
  },
  {
   "cell_type": "markdown",
   "id": "50fbdd7b",
   "metadata": {},
   "source": [
    "---"
   ]
  },
  {
   "cell_type": "markdown",
   "id": "cbe3a461",
   "metadata": {},
   "source": [
    "## Trainning"
   ]
  },
  {
   "cell_type": "code",
   "execution_count": 3,
   "id": "ee4f9737",
   "metadata": {},
   "outputs": [],
   "source": [
    "from sklearn.neural_network import MLPClassifier"
   ]
  },
  {
   "cell_type": "code",
   "execution_count": 4,
   "id": "4b73630f",
   "metadata": {},
   "outputs": [
    {
     "name": "stdout",
     "output_type": "stream",
     "text": [
      "0\n",
      "1\n",
      "2\n",
      "3\n",
      "4\n",
      "5\n",
      "6\n"
     ]
    }
   ],
   "source": [
    "clf = MLPClassifier(solver='lbfgs', alpha=1e-5,hidden_layer_sizes=(5, 2), random_state=1)\n",
    "\n",
    "Xs = [data0001, data0002, data0013, data0017, data0060, data0026, data0113] #Leave data0048 for checking accuracy\n",
    "ys = [label0001, label0002, label0013, label0017, label0060, label0026, label0113] #Leave label0048 for checking accuracy\n",
    "\n",
    "for i in range(len(Xs)):\n",
    "    print(i)\n",
    "    X = Xs[i]\n",
    "    y = ys[i]['safety']\n",
    "    clf.fit(X, y)"
   ]
  },
  {
   "cell_type": "markdown",
   "id": "52d206bc",
   "metadata": {},
   "source": [
    "Save the trained model."
   ]
  },
  {
   "cell_type": "code",
   "execution_count": 5,
   "id": "0811d990",
   "metadata": {},
   "outputs": [],
   "source": [
    "import pickle\n",
    "\n",
    "with open('model.pkl','wb') as f:\n",
    "    pickle.dump(clf, f)"
   ]
  },
  {
   "cell_type": "markdown",
   "id": "daf30f02",
   "metadata": {},
   "source": [
    "## Results"
   ]
  },
  {
   "cell_type": "code",
   "execution_count": 6,
   "id": "503fb4c6",
   "metadata": {},
   "outputs": [],
   "source": [
    "X = data0048\n",
    "\n",
    "y_act = label0048['safety']\n",
    "y_pred = clf.predict(X)"
   ]
  },
  {
   "cell_type": "code",
   "execution_count": 7,
   "id": "476bee65",
   "metadata": {},
   "outputs": [],
   "source": [
    "from prettytable import PrettyTable\n",
    "\n",
    "def calculate_metrics(true_labels, pred_labels):\n",
    "    tp = 0\n",
    "    tn = 0\n",
    "    fp = 0\n",
    "    fn = 0\n",
    "    \n",
    "    for i in range(len(true_labels)):\n",
    "        if true_labels[i] == pred_labels[i]:\n",
    "            if true_labels[i] == 1:\n",
    "                tp += 1\n",
    "            else:\n",
    "                tn += 1\n",
    "        else:\n",
    "            if true_labels[i] == 1:\n",
    "                fn += 1\n",
    "            else:\n",
    "                fp += 1\n",
    "    \n",
    "    accuracy = (tp + tn) / len(true_labels)\n",
    "    false_positive_rate = fp / (fp + tn)\n",
    "    false_negative_rate = fn / (fn + tp)\n",
    "    \n",
    "    # create a table to display the results\n",
    "    x = PrettyTable()\n",
    "    x.field_names = [\"Metric\", \"Value\"]\n",
    "    x.add_row([\"Accuracy\", \"{:.2f}\".format(accuracy)])\n",
    "    x.add_row([\"False Positive Rate\", \"{:.2f}\".format(false_positive_rate)])\n",
    "    x.add_row([\"False Negative Rate\", \"{:.2f}\".format(false_negative_rate)])\n",
    "    \n",
    "    print(x)"
   ]
  },
  {
   "cell_type": "code",
   "execution_count": 8,
   "id": "e51b1ab7",
   "metadata": {},
   "outputs": [
    {
     "name": "stdout",
     "output_type": "stream",
     "text": [
      "+---------------------+-------+\n",
      "|        Metric       | Value |\n",
      "+---------------------+-------+\n",
      "|       Accuracy      |  0.64 |\n",
      "| False Positive Rate |  0.38 |\n",
      "| False Negative Rate |  0.33 |\n",
      "+---------------------+-------+\n"
     ]
    }
   ],
   "source": [
    "calculate_metrics(y_act, y_pred)"
   ]
  },
  {
   "cell_type": "markdown",
   "id": "a2370c65",
   "metadata": {},
   "source": [
    "## Output results"
   ]
  },
  {
   "cell_type": "code",
   "execution_count": 9,
   "id": "ff1604a6",
   "metadata": {},
   "outputs": [],
   "source": [
    "import os\n",
    "import json\n",
    "\n",
    "def gen_final_results():\n",
    "    # Create results folder if not exist\n",
    "    if not os.path.exists(\"results\"):\n",
    "        os.makedirs(\"results\")\n",
    "    \n",
    "    json_folder = 'jsons'\n",
    "    for file_name in os.listdir(json_folder):\n",
    "        file_path = os.path.join(json_folder, file_name)\n",
    "    \n",
    "        # Get result from CLF\n",
    "        data = load_data(file_path)\n",
    "        result = clf.predict(data)\n",
    "    \n",
    "        # Compose the result JSON\n",
    "        json_to_write = {}\n",
    "        index = 0\n",
    "\n",
    "        f = open(file_path)\n",
    "        original_data = json.load(f)\n",
    "        for key in original_data:\n",
    "            result_boolean = True\n",
    "            if result[index] == 0:\n",
    "                result_boolean = False\n",
    "            json_to_write[key] = result_boolean\n",
    "            index += 1\n",
    "            \n",
    "        with open(os.path.join(\"results\", file_name), 'w') as file_to_write:\n",
    "            json.dump(json_to_write, file_to_write)\n",
    "        \n",
    "\n",
    "gen_final_results()"
   ]
  },
  {
   "cell_type": "code",
   "execution_count": null,
   "id": "8720078b",
   "metadata": {},
   "outputs": [],
   "source": []
  }
 ],
 "metadata": {
  "kernelspec": {
   "display_name": "Python 3 (ipykernel)",
   "language": "python",
   "name": "python3"
  },
  "language_info": {
   "codemirror_mode": {
    "name": "ipython",
    "version": 3
   },
   "file_extension": ".py",
   "mimetype": "text/x-python",
   "name": "python",
   "nbconvert_exporter": "python",
   "pygments_lexer": "ipython3",
   "version": "3.9.2"
  }
 },
 "nbformat": 4,
 "nbformat_minor": 5
}
